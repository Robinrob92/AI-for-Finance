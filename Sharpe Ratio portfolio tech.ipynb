{
 "cells": [
  {
   "cell_type": "markdown",
   "metadata": {},
   "source": [
    "# Sharpe Ratio and Portfolio Values"
   ]
  },
  {
   "cell_type": "code",
   "execution_count": 27,
   "metadata": {},
   "outputs": [],
   "source": [
    "import pandas as pd\n",
    "import numpy as np\n",
    "import matplotlib.pyplot as plt\n",
    "import pandas_datareader.data as web\n",
    "import datetime"
   ]
  },
  {
   "cell_type": "markdown",
   "metadata": {},
   "source": [
    "## Create a Portfolio"
   ]
  },
  {
   "cell_type": "code",
   "execution_count": 31,
   "metadata": {},
   "outputs": [],
   "source": [
    "#define our start and end date\n",
    "start=datetime.datetime(2021,1,1)\n",
    "end=datetime.datetime(2021,2,18)"
   ]
  },
  {
   "cell_type": "code",
   "execution_count": 32,
   "metadata": {},
   "outputs": [],
   "source": [
    "# Grabbing a bunch of ','yahoo', start,end)\n",
    "aapl = web.DataReader('AAPL','yahoo', start,end)\n",
    "cisco= web.DataReader('CSCO','yahoo', start,end)\n",
    "ibm = web.DataReader('IBM','yahoo', start,end)\n",
    "amzn = web.DataReader('AMZN','yahoo', start,end)"
   ]
  },
  {
   "cell_type": "code",
   "execution_count": 33,
   "metadata": {},
   "outputs": [],
   "source": [
    "aapl.index = pd.to_datetime(aapl.index)\n",
    "cisco.index = pd.to_datetime(cisco.index)\n",
    "ibm.index = pd.to_datetime(ibm.index)\n",
    "amzn.index = pd.to_datetime(amzn.index)"
   ]
  },
  {
   "cell_type": "code",
   "execution_count": 34,
   "metadata": {},
   "outputs": [
    {
     "data": {
      "text/html": [
       "<div>\n",
       "<style scoped>\n",
       "    .dataframe tbody tr th:only-of-type {\n",
       "        vertical-align: middle;\n",
       "    }\n",
       "\n",
       "    .dataframe tbody tr th {\n",
       "        vertical-align: top;\n",
       "    }\n",
       "\n",
       "    .dataframe thead th {\n",
       "        text-align: right;\n",
       "    }\n",
       "</style>\n",
       "<table border=\"1\" class=\"dataframe\">\n",
       "  <thead>\n",
       "    <tr style=\"text-align: right;\">\n",
       "      <th></th>\n",
       "      <th>High</th>\n",
       "      <th>Low</th>\n",
       "      <th>Open</th>\n",
       "      <th>Close</th>\n",
       "      <th>Volume</th>\n",
       "      <th>Adj Close</th>\n",
       "    </tr>\n",
       "    <tr>\n",
       "      <th>Date</th>\n",
       "      <th></th>\n",
       "      <th></th>\n",
       "      <th></th>\n",
       "      <th></th>\n",
       "      <th></th>\n",
       "      <th></th>\n",
       "    </tr>\n",
       "  </thead>\n",
       "  <tbody>\n",
       "    <tr>\n",
       "      <th>2021-01-04</th>\n",
       "      <td>133.610001</td>\n",
       "      <td>126.760002</td>\n",
       "      <td>133.520004</td>\n",
       "      <td>129.410004</td>\n",
       "      <td>143301900.0</td>\n",
       "      <td>129.216919</td>\n",
       "    </tr>\n",
       "    <tr>\n",
       "      <th>2021-01-05</th>\n",
       "      <td>131.740005</td>\n",
       "      <td>128.429993</td>\n",
       "      <td>128.889999</td>\n",
       "      <td>131.009995</td>\n",
       "      <td>97664900.0</td>\n",
       "      <td>130.814514</td>\n",
       "    </tr>\n",
       "    <tr>\n",
       "      <th>2021-01-06</th>\n",
       "      <td>131.050003</td>\n",
       "      <td>126.379997</td>\n",
       "      <td>127.720001</td>\n",
       "      <td>126.599998</td>\n",
       "      <td>155088000.0</td>\n",
       "      <td>126.411102</td>\n",
       "    </tr>\n",
       "    <tr>\n",
       "      <th>2021-01-07</th>\n",
       "      <td>131.630005</td>\n",
       "      <td>127.860001</td>\n",
       "      <td>128.360001</td>\n",
       "      <td>130.919998</td>\n",
       "      <td>109578200.0</td>\n",
       "      <td>130.724655</td>\n",
       "    </tr>\n",
       "    <tr>\n",
       "      <th>2021-01-08</th>\n",
       "      <td>132.630005</td>\n",
       "      <td>130.229996</td>\n",
       "      <td>132.429993</td>\n",
       "      <td>132.050003</td>\n",
       "      <td>105158200.0</td>\n",
       "      <td>131.852966</td>\n",
       "    </tr>\n",
       "  </tbody>\n",
       "</table>\n",
       "</div>"
      ],
      "text/plain": [
       "                  High         Low        Open       Close       Volume  \\\n",
       "Date                                                                      \n",
       "2021-01-04  133.610001  126.760002  133.520004  129.410004  143301900.0   \n",
       "2021-01-05  131.740005  128.429993  128.889999  131.009995   97664900.0   \n",
       "2021-01-06  131.050003  126.379997  127.720001  126.599998  155088000.0   \n",
       "2021-01-07  131.630005  127.860001  128.360001  130.919998  109578200.0   \n",
       "2021-01-08  132.630005  130.229996  132.429993  132.050003  105158200.0   \n",
       "\n",
       "             Adj Close  \n",
       "Date                    \n",
       "2021-01-04  129.216919  \n",
       "2021-01-05  130.814514  \n",
       "2021-01-06  126.411102  \n",
       "2021-01-07  130.724655  \n",
       "2021-01-08  131.852966  "
      ]
     },
     "execution_count": 34,
     "metadata": {},
     "output_type": "execute_result"
    }
   ],
   "source": [
    "aapl.head()"
   ]
  },
  {
   "cell_type": "markdown",
   "metadata": {},
   "source": [
    "## Normalize Prices"
   ]
  },
  {
   "cell_type": "code",
   "execution_count": 35,
   "metadata": {},
   "outputs": [],
   "source": [
    "for stock_df in (aapl,cisco,ibm,amzn):\n",
    "    stock_df['Normed Return'] = stock_df['Adj Close']/stock_df.iloc[0]['Adj Close']"
   ]
  },
  {
   "cell_type": "code",
   "execution_count": 36,
   "metadata": {
    "scrolled": true
   },
   "outputs": [
    {
     "data": {
      "text/html": [
       "<div>\n",
       "<style scoped>\n",
       "    .dataframe tbody tr th:only-of-type {\n",
       "        vertical-align: middle;\n",
       "    }\n",
       "\n",
       "    .dataframe tbody tr th {\n",
       "        vertical-align: top;\n",
       "    }\n",
       "\n",
       "    .dataframe thead th {\n",
       "        text-align: right;\n",
       "    }\n",
       "</style>\n",
       "<table border=\"1\" class=\"dataframe\">\n",
       "  <thead>\n",
       "    <tr style=\"text-align: right;\">\n",
       "      <th></th>\n",
       "      <th>High</th>\n",
       "      <th>Low</th>\n",
       "      <th>Open</th>\n",
       "      <th>Close</th>\n",
       "      <th>Volume</th>\n",
       "      <th>Adj Close</th>\n",
       "      <th>Normed Return</th>\n",
       "    </tr>\n",
       "    <tr>\n",
       "      <th>Date</th>\n",
       "      <th></th>\n",
       "      <th></th>\n",
       "      <th></th>\n",
       "      <th></th>\n",
       "      <th></th>\n",
       "      <th></th>\n",
       "      <th></th>\n",
       "    </tr>\n",
       "  </thead>\n",
       "  <tbody>\n",
       "    <tr>\n",
       "      <th>2021-01-04</th>\n",
       "      <td>133.610001</td>\n",
       "      <td>126.760002</td>\n",
       "      <td>133.520004</td>\n",
       "      <td>129.410004</td>\n",
       "      <td>143301900.0</td>\n",
       "      <td>129.216919</td>\n",
       "      <td>1.000000</td>\n",
       "    </tr>\n",
       "    <tr>\n",
       "      <th>2021-01-05</th>\n",
       "      <td>131.740005</td>\n",
       "      <td>128.429993</td>\n",
       "      <td>128.889999</td>\n",
       "      <td>131.009995</td>\n",
       "      <td>97664900.0</td>\n",
       "      <td>130.814514</td>\n",
       "      <td>1.012364</td>\n",
       "    </tr>\n",
       "    <tr>\n",
       "      <th>2021-01-06</th>\n",
       "      <td>131.050003</td>\n",
       "      <td>126.379997</td>\n",
       "      <td>127.720001</td>\n",
       "      <td>126.599998</td>\n",
       "      <td>155088000.0</td>\n",
       "      <td>126.411102</td>\n",
       "      <td>0.978286</td>\n",
       "    </tr>\n",
       "    <tr>\n",
       "      <th>2021-01-07</th>\n",
       "      <td>131.630005</td>\n",
       "      <td>127.860001</td>\n",
       "      <td>128.360001</td>\n",
       "      <td>130.919998</td>\n",
       "      <td>109578200.0</td>\n",
       "      <td>130.724655</td>\n",
       "      <td>1.011668</td>\n",
       "    </tr>\n",
       "    <tr>\n",
       "      <th>2021-01-08</th>\n",
       "      <td>132.630005</td>\n",
       "      <td>130.229996</td>\n",
       "      <td>132.429993</td>\n",
       "      <td>132.050003</td>\n",
       "      <td>105158200.0</td>\n",
       "      <td>131.852966</td>\n",
       "      <td>1.020400</td>\n",
       "    </tr>\n",
       "  </tbody>\n",
       "</table>\n",
       "</div>"
      ],
      "text/plain": [
       "                  High         Low        Open       Close       Volume  \\\n",
       "Date                                                                      \n",
       "2021-01-04  133.610001  126.760002  133.520004  129.410004  143301900.0   \n",
       "2021-01-05  131.740005  128.429993  128.889999  131.009995   97664900.0   \n",
       "2021-01-06  131.050003  126.379997  127.720001  126.599998  155088000.0   \n",
       "2021-01-07  131.630005  127.860001  128.360001  130.919998  109578200.0   \n",
       "2021-01-08  132.630005  130.229996  132.429993  132.050003  105158200.0   \n",
       "\n",
       "             Adj Close  Normed Return  \n",
       "Date                                   \n",
       "2021-01-04  129.216919       1.000000  \n",
       "2021-01-05  130.814514       1.012364  \n",
       "2021-01-06  126.411102       0.978286  \n",
       "2021-01-07  130.724655       1.011668  \n",
       "2021-01-08  131.852966       1.020400  "
      ]
     },
     "execution_count": 36,
     "metadata": {},
     "output_type": "execute_result"
    }
   ],
   "source": [
    "aapl.head()"
   ]
  },
  {
   "cell_type": "markdown",
   "metadata": {},
   "source": [
    "### Allocations\n",
    "Let's pretend we had the following allocations for our total portfolio:\n",
    "\n",
    "- 30% in Apple\n",
    "- 20% in Google/Alphabet\n",
    "- 40% in Amazon\n",
    "- 10% in IBM"
   ]
  },
  {
   "cell_type": "code",
   "execution_count": 37,
   "metadata": {},
   "outputs": [],
   "source": [
    "for stock_df,allo in zip([aapl,cisco,ibm,amzn],[.3,.2,.4,.1]):\n",
    "    stock_df['Allocation'] = stock_df['Normed Return']*allo"
   ]
  },
  {
   "cell_type": "code",
   "execution_count": 38,
   "metadata": {},
   "outputs": [
    {
     "data": {
      "text/html": [
       "<div>\n",
       "<style scoped>\n",
       "    .dataframe tbody tr th:only-of-type {\n",
       "        vertical-align: middle;\n",
       "    }\n",
       "\n",
       "    .dataframe tbody tr th {\n",
       "        vertical-align: top;\n",
       "    }\n",
       "\n",
       "    .dataframe thead th {\n",
       "        text-align: right;\n",
       "    }\n",
       "</style>\n",
       "<table border=\"1\" class=\"dataframe\">\n",
       "  <thead>\n",
       "    <tr style=\"text-align: right;\">\n",
       "      <th></th>\n",
       "      <th>High</th>\n",
       "      <th>Low</th>\n",
       "      <th>Open</th>\n",
       "      <th>Close</th>\n",
       "      <th>Volume</th>\n",
       "      <th>Adj Close</th>\n",
       "      <th>Normed Return</th>\n",
       "      <th>Allocation</th>\n",
       "    </tr>\n",
       "    <tr>\n",
       "      <th>Date</th>\n",
       "      <th></th>\n",
       "      <th></th>\n",
       "      <th></th>\n",
       "      <th></th>\n",
       "      <th></th>\n",
       "      <th></th>\n",
       "      <th></th>\n",
       "      <th></th>\n",
       "    </tr>\n",
       "  </thead>\n",
       "  <tbody>\n",
       "    <tr>\n",
       "      <th>2021-01-04</th>\n",
       "      <td>133.610001</td>\n",
       "      <td>126.760002</td>\n",
       "      <td>133.520004</td>\n",
       "      <td>129.410004</td>\n",
       "      <td>143301900.0</td>\n",
       "      <td>129.216919</td>\n",
       "      <td>1.000000</td>\n",
       "      <td>0.300000</td>\n",
       "    </tr>\n",
       "    <tr>\n",
       "      <th>2021-01-05</th>\n",
       "      <td>131.740005</td>\n",
       "      <td>128.429993</td>\n",
       "      <td>128.889999</td>\n",
       "      <td>131.009995</td>\n",
       "      <td>97664900.0</td>\n",
       "      <td>130.814514</td>\n",
       "      <td>1.012364</td>\n",
       "      <td>0.303709</td>\n",
       "    </tr>\n",
       "    <tr>\n",
       "      <th>2021-01-06</th>\n",
       "      <td>131.050003</td>\n",
       "      <td>126.379997</td>\n",
       "      <td>127.720001</td>\n",
       "      <td>126.599998</td>\n",
       "      <td>155088000.0</td>\n",
       "      <td>126.411102</td>\n",
       "      <td>0.978286</td>\n",
       "      <td>0.293486</td>\n",
       "    </tr>\n",
       "    <tr>\n",
       "      <th>2021-01-07</th>\n",
       "      <td>131.630005</td>\n",
       "      <td>127.860001</td>\n",
       "      <td>128.360001</td>\n",
       "      <td>130.919998</td>\n",
       "      <td>109578200.0</td>\n",
       "      <td>130.724655</td>\n",
       "      <td>1.011668</td>\n",
       "      <td>0.303500</td>\n",
       "    </tr>\n",
       "    <tr>\n",
       "      <th>2021-01-08</th>\n",
       "      <td>132.630005</td>\n",
       "      <td>130.229996</td>\n",
       "      <td>132.429993</td>\n",
       "      <td>132.050003</td>\n",
       "      <td>105158200.0</td>\n",
       "      <td>131.852966</td>\n",
       "      <td>1.020400</td>\n",
       "      <td>0.306120</td>\n",
       "    </tr>\n",
       "  </tbody>\n",
       "</table>\n",
       "</div>"
      ],
      "text/plain": [
       "                  High         Low        Open       Close       Volume  \\\n",
       "Date                                                                      \n",
       "2021-01-04  133.610001  126.760002  133.520004  129.410004  143301900.0   \n",
       "2021-01-05  131.740005  128.429993  128.889999  131.009995   97664900.0   \n",
       "2021-01-06  131.050003  126.379997  127.720001  126.599998  155088000.0   \n",
       "2021-01-07  131.630005  127.860001  128.360001  130.919998  109578200.0   \n",
       "2021-01-08  132.630005  130.229996  132.429993  132.050003  105158200.0   \n",
       "\n",
       "             Adj Close  Normed Return  Allocation  \n",
       "Date                                               \n",
       "2021-01-04  129.216919       1.000000    0.300000  \n",
       "2021-01-05  130.814514       1.012364    0.303709  \n",
       "2021-01-06  126.411102       0.978286    0.293486  \n",
       "2021-01-07  130.724655       1.011668    0.303500  \n",
       "2021-01-08  131.852966       1.020400    0.306120  "
      ]
     },
     "execution_count": 38,
     "metadata": {},
     "output_type": "execute_result"
    }
   ],
   "source": [
    "aapl.head()"
   ]
  },
  {
   "cell_type": "code",
   "execution_count": 39,
   "metadata": {},
   "outputs": [
    {
     "data": {
      "text/html": [
       "<div>\n",
       "<style scoped>\n",
       "    .dataframe tbody tr th:only-of-type {\n",
       "        vertical-align: middle;\n",
       "    }\n",
       "\n",
       "    .dataframe tbody tr th {\n",
       "        vertical-align: top;\n",
       "    }\n",
       "\n",
       "    .dataframe thead th {\n",
       "        text-align: right;\n",
       "    }\n",
       "</style>\n",
       "<table border=\"1\" class=\"dataframe\">\n",
       "  <thead>\n",
       "    <tr style=\"text-align: right;\">\n",
       "      <th></th>\n",
       "      <th>High</th>\n",
       "      <th>Low</th>\n",
       "      <th>Open</th>\n",
       "      <th>Close</th>\n",
       "      <th>Volume</th>\n",
       "      <th>Adj Close</th>\n",
       "      <th>Normed Return</th>\n",
       "      <th>Allocation</th>\n",
       "    </tr>\n",
       "    <tr>\n",
       "      <th>Date</th>\n",
       "      <th></th>\n",
       "      <th></th>\n",
       "      <th></th>\n",
       "      <th></th>\n",
       "      <th></th>\n",
       "      <th></th>\n",
       "      <th></th>\n",
       "      <th></th>\n",
       "    </tr>\n",
       "  </thead>\n",
       "  <tbody>\n",
       "    <tr>\n",
       "      <th>2021-02-11</th>\n",
       "      <td>136.389999</td>\n",
       "      <td>133.770004</td>\n",
       "      <td>135.899994</td>\n",
       "      <td>135.130005</td>\n",
       "      <td>64154400.0</td>\n",
       "      <td>135.130005</td>\n",
       "      <td>1.045761</td>\n",
       "      <td>0.313728</td>\n",
       "    </tr>\n",
       "    <tr>\n",
       "      <th>2021-02-12</th>\n",
       "      <td>135.529999</td>\n",
       "      <td>133.690002</td>\n",
       "      <td>134.350006</td>\n",
       "      <td>135.369995</td>\n",
       "      <td>60029300.0</td>\n",
       "      <td>135.369995</td>\n",
       "      <td>1.047618</td>\n",
       "      <td>0.314285</td>\n",
       "    </tr>\n",
       "    <tr>\n",
       "      <th>2021-02-16</th>\n",
       "      <td>136.009995</td>\n",
       "      <td>132.789993</td>\n",
       "      <td>135.490005</td>\n",
       "      <td>133.190002</td>\n",
       "      <td>80206200.0</td>\n",
       "      <td>133.190002</td>\n",
       "      <td>1.030747</td>\n",
       "      <td>0.309224</td>\n",
       "    </tr>\n",
       "    <tr>\n",
       "      <th>2021-02-17</th>\n",
       "      <td>132.220001</td>\n",
       "      <td>129.470001</td>\n",
       "      <td>131.250000</td>\n",
       "      <td>130.839996</td>\n",
       "      <td>97918500.0</td>\n",
       "      <td>130.839996</td>\n",
       "      <td>1.012561</td>\n",
       "      <td>0.303768</td>\n",
       "    </tr>\n",
       "    <tr>\n",
       "      <th>2021-02-18</th>\n",
       "      <td>130.000000</td>\n",
       "      <td>127.410004</td>\n",
       "      <td>129.199997</td>\n",
       "      <td>129.710007</td>\n",
       "      <td>96648100.0</td>\n",
       "      <td>129.710007</td>\n",
       "      <td>1.003816</td>\n",
       "      <td>0.301145</td>\n",
       "    </tr>\n",
       "  </tbody>\n",
       "</table>\n",
       "</div>"
      ],
      "text/plain": [
       "                  High         Low        Open       Close      Volume  \\\n",
       "Date                                                                     \n",
       "2021-02-11  136.389999  133.770004  135.899994  135.130005  64154400.0   \n",
       "2021-02-12  135.529999  133.690002  134.350006  135.369995  60029300.0   \n",
       "2021-02-16  136.009995  132.789993  135.490005  133.190002  80206200.0   \n",
       "2021-02-17  132.220001  129.470001  131.250000  130.839996  97918500.0   \n",
       "2021-02-18  130.000000  127.410004  129.199997  129.710007  96648100.0   \n",
       "\n",
       "             Adj Close  Normed Return  Allocation  \n",
       "Date                                               \n",
       "2021-02-11  135.130005       1.045761    0.313728  \n",
       "2021-02-12  135.369995       1.047618    0.314285  \n",
       "2021-02-16  133.190002       1.030747    0.309224  \n",
       "2021-02-17  130.839996       1.012561    0.303768  \n",
       "2021-02-18  129.710007       1.003816    0.301145  "
      ]
     },
     "execution_count": 39,
     "metadata": {},
     "output_type": "execute_result"
    }
   ],
   "source": [
    "aapl.tail()"
   ]
  },
  {
   "cell_type": "markdown",
   "metadata": {},
   "source": [
    "### Investment\n",
    "Let's pretend we invested a million dollars in this portfolio"
   ]
  },
  {
   "cell_type": "code",
   "execution_count": 40,
   "metadata": {},
   "outputs": [],
   "source": [
    "for stock_df in [aapl,cisco,ibm,amzn]:\n",
    "    stock_df['Position Values'] = stock_df['Allocation']*1000000"
   ]
  },
  {
   "cell_type": "markdown",
   "metadata": {},
   "source": [
    "### Total Portfolio Value"
   ]
  },
  {
   "cell_type": "code",
   "execution_count": 41,
   "metadata": {},
   "outputs": [],
   "source": [
    "portfolio_val = pd.concat([aapl['Position Values'],cisco['Position Values'],ibm['Position Values'],amzn['Position Values']],axis=1)"
   ]
  },
  {
   "cell_type": "code",
   "execution_count": 43,
   "metadata": {},
   "outputs": [
    {
     "data": {
      "text/html": [
       "<div>\n",
       "<style scoped>\n",
       "    .dataframe tbody tr th:only-of-type {\n",
       "        vertical-align: middle;\n",
       "    }\n",
       "\n",
       "    .dataframe tbody tr th {\n",
       "        vertical-align: top;\n",
       "    }\n",
       "\n",
       "    .dataframe thead th {\n",
       "        text-align: right;\n",
       "    }\n",
       "</style>\n",
       "<table border=\"1\" class=\"dataframe\">\n",
       "  <thead>\n",
       "    <tr style=\"text-align: right;\">\n",
       "      <th></th>\n",
       "      <th>Position Values</th>\n",
       "      <th>Position Values</th>\n",
       "      <th>Position Values</th>\n",
       "      <th>Position Values</th>\n",
       "    </tr>\n",
       "    <tr>\n",
       "      <th>Date</th>\n",
       "      <th></th>\n",
       "      <th></th>\n",
       "      <th></th>\n",
       "      <th></th>\n",
       "    </tr>\n",
       "  </thead>\n",
       "  <tbody>\n",
       "    <tr>\n",
       "      <th>2021-02-11</th>\n",
       "      <td>313728.277966</td>\n",
       "      <td>216469.530582</td>\n",
       "      <td>395435.549690</td>\n",
       "      <td>102369.274211</td>\n",
       "    </tr>\n",
       "    <tr>\n",
       "      <th>2021-02-12</th>\n",
       "      <td>314285.457869</td>\n",
       "      <td>215150.145134</td>\n",
       "      <td>395075.793255</td>\n",
       "      <td>102858.194440</td>\n",
       "    </tr>\n",
       "    <tr>\n",
       "      <th>2021-02-16</th>\n",
       "      <td>309224.218148</td>\n",
       "      <td>211601.452640</td>\n",
       "      <td>392688.321003</td>\n",
       "      <td>102583.295563</td>\n",
       "    </tr>\n",
       "    <tr>\n",
       "      <th>2021-02-17</th>\n",
       "      <td>303768.262096</td>\n",
       "      <td>210418.566712</td>\n",
       "      <td>392361.276504</td>\n",
       "      <td>103828.810193</td>\n",
       "    </tr>\n",
       "    <tr>\n",
       "      <th>2021-02-18</th>\n",
       "      <td>301144.790727</td>\n",
       "      <td>210828.030563</td>\n",
       "      <td>394846.859611</td>\n",
       "      <td>104443.569001</td>\n",
       "    </tr>\n",
       "  </tbody>\n",
       "</table>\n",
       "</div>"
      ],
      "text/plain": [
       "            Position Values  Position Values  Position Values  Position Values\n",
       "Date                                                                          \n",
       "2021-02-11    313728.277966    216469.530582    395435.549690    102369.274211\n",
       "2021-02-12    314285.457869    215150.145134    395075.793255    102858.194440\n",
       "2021-02-16    309224.218148    211601.452640    392688.321003    102583.295563\n",
       "2021-02-17    303768.262096    210418.566712    392361.276504    103828.810193\n",
       "2021-02-18    301144.790727    210828.030563    394846.859611    104443.569001"
      ]
     },
     "execution_count": 43,
     "metadata": {},
     "output_type": "execute_result"
    }
   ],
   "source": [
    "portfolio_val.tail()"
   ]
  },
  {
   "cell_type": "code",
   "execution_count": 44,
   "metadata": {},
   "outputs": [],
   "source": [
    "portfolio_val.columns = ['AAPL Pos','CISCO Pos','IBM Pos','AMZN Pos']"
   ]
  },
  {
   "cell_type": "code",
   "execution_count": 46,
   "metadata": {},
   "outputs": [
    {
     "data": {
      "text/html": [
       "<div>\n",
       "<style scoped>\n",
       "    .dataframe tbody tr th:only-of-type {\n",
       "        vertical-align: middle;\n",
       "    }\n",
       "\n",
       "    .dataframe tbody tr th {\n",
       "        vertical-align: top;\n",
       "    }\n",
       "\n",
       "    .dataframe thead th {\n",
       "        text-align: right;\n",
       "    }\n",
       "</style>\n",
       "<table border=\"1\" class=\"dataframe\">\n",
       "  <thead>\n",
       "    <tr style=\"text-align: right;\">\n",
       "      <th></th>\n",
       "      <th>AAPL Pos</th>\n",
       "      <th>CISCO Pos</th>\n",
       "      <th>IBM Pos</th>\n",
       "      <th>AMZN Pos</th>\n",
       "    </tr>\n",
       "    <tr>\n",
       "      <th>Date</th>\n",
       "      <th></th>\n",
       "      <th></th>\n",
       "      <th></th>\n",
       "      <th></th>\n",
       "    </tr>\n",
       "  </thead>\n",
       "  <tbody>\n",
       "    <tr>\n",
       "      <th>2021-02-11</th>\n",
       "      <td>313728.277966</td>\n",
       "      <td>216469.530582</td>\n",
       "      <td>395435.549690</td>\n",
       "      <td>102369.274211</td>\n",
       "    </tr>\n",
       "    <tr>\n",
       "      <th>2021-02-12</th>\n",
       "      <td>314285.457869</td>\n",
       "      <td>215150.145134</td>\n",
       "      <td>395075.793255</td>\n",
       "      <td>102858.194440</td>\n",
       "    </tr>\n",
       "    <tr>\n",
       "      <th>2021-02-16</th>\n",
       "      <td>309224.218148</td>\n",
       "      <td>211601.452640</td>\n",
       "      <td>392688.321003</td>\n",
       "      <td>102583.295563</td>\n",
       "    </tr>\n",
       "    <tr>\n",
       "      <th>2021-02-17</th>\n",
       "      <td>303768.262096</td>\n",
       "      <td>210418.566712</td>\n",
       "      <td>392361.276504</td>\n",
       "      <td>103828.810193</td>\n",
       "    </tr>\n",
       "    <tr>\n",
       "      <th>2021-02-18</th>\n",
       "      <td>301144.790727</td>\n",
       "      <td>210828.030563</td>\n",
       "      <td>394846.859611</td>\n",
       "      <td>104443.569001</td>\n",
       "    </tr>\n",
       "  </tbody>\n",
       "</table>\n",
       "</div>"
      ],
      "text/plain": [
       "                 AAPL Pos      CISCO Pos        IBM Pos       AMZN Pos\n",
       "Date                                                                  \n",
       "2021-02-11  313728.277966  216469.530582  395435.549690  102369.274211\n",
       "2021-02-12  314285.457869  215150.145134  395075.793255  102858.194440\n",
       "2021-02-16  309224.218148  211601.452640  392688.321003  102583.295563\n",
       "2021-02-17  303768.262096  210418.566712  392361.276504  103828.810193\n",
       "2021-02-18  301144.790727  210828.030563  394846.859611  104443.569001"
      ]
     },
     "execution_count": 46,
     "metadata": {},
     "output_type": "execute_result"
    }
   ],
   "source": [
    "portfolio_val.tail()"
   ]
  },
  {
   "cell_type": "code",
   "execution_count": 47,
   "metadata": {},
   "outputs": [],
   "source": [
    "portfolio_val['Total Pos'] = portfolio_val.sum(axis=1)"
   ]
  },
  {
   "cell_type": "code",
   "execution_count": 48,
   "metadata": {},
   "outputs": [
    {
     "data": {
      "text/plain": [
       "Text(0.5, 1.0, 'Total Portfolio Value')"
      ]
     },
     "execution_count": 48,
     "metadata": {},
     "output_type": "execute_result"
    },
    {
     "data": {
      "image/png": "[encoded data removed]",
      "text/plain": [
       "<Figure size 720x576 with 1 Axes>"
      ]
     },
     "metadata": {
      "needs_background": "light"
     },
     "output_type": "display_data"
    }
   ],
   "source": [
    "portfolio_val['Total Pos'].plot(figsize=(10,8))\n",
    "plt.title('Total Portfolio Value')"
   ]
  },
  {
   "cell_type": "code",
   "execution_count": 51,
   "metadata": {},
   "outputs": [
    {
     "data": {
      "text/plain": [
       "<AxesSubplot:xlabel='Date'>"
      ]
     },
     "execution_count": 51,
     "metadata": {},
     "output_type": "execute_result"
    },
    {
     "data": {
      "image/png": "[encoded data removed]",
      "text/plain": [
       "<Figure size 720x576 with 1 Axes>"
      ]
     },
     "metadata": {
      "needs_background": "light"
     },
     "output_type": "display_data"
    }
   ],
   "source": [
    "portfolio_val.drop('Total Pos',axis=1).plot(kind='line', figsize=(10,8))"
   ]
  },
  {
   "cell_type": "markdown",
   "metadata": {},
   "source": [
    "## Portfolio Statistics\n"
   ]
  },
  {
   "cell_type": "markdown",
   "metadata": {},
   "source": [
    "### Daily Returns"
   ]
  },
  {
   "cell_type": "code",
   "execution_count": 52,
   "metadata": {},
   "outputs": [],
   "source": [
    "portfolio_val['Daily Return'] = portfolio_val['Total Pos'].pct_change(1)"
   ]
  },
  {
   "cell_type": "markdown",
   "metadata": {},
   "source": [
    "### Cumulative Return"
   ]
  },
  {
   "cell_type": "code",
   "execution_count": 53,
   "metadata": {},
   "outputs": [
    {
     "name": "stdout",
     "output_type": "stream",
     "text": [
      "Our return 1.1263249901344086 was percent!\n"
     ]
    }
   ],
   "source": [
    "cum_ret = 100 * (portfolio_val['Total Pos'][-1]/portfolio_val['Total Pos'][0] -1 )\n",
    "print('Our return {} was percent!'.format(cum_ret))"
   ]
  },
  {
   "cell_type": "markdown",
   "metadata": {},
   "source": [
    "### Avg Daily Return"
   ]
  },
  {
   "cell_type": "code",
   "execution_count": 54,
   "metadata": {},
   "outputs": [
    {
     "data": {
      "text/plain": [
       "0.00043635909899854676"
      ]
     },
     "execution_count": 54,
     "metadata": {},
     "output_type": "execute_result"
    }
   ],
   "source": [
    "portfolio_val['Daily Return'].mean()"
   ]
  },
  {
   "cell_type": "markdown",
   "metadata": {},
   "source": [
    "### Std Daily Return"
   ]
  },
  {
   "cell_type": "code",
   "execution_count": 55,
   "metadata": {},
   "outputs": [
    {
     "data": {
      "text/plain": [
       "0.012413783239420488"
      ]
     },
     "execution_count": 55,
     "metadata": {},
     "output_type": "execute_result"
    }
   ],
   "source": [
    "portfolio_val['Daily Return'].std()"
   ]
  },
  {
   "cell_type": "code",
   "execution_count": 56,
   "metadata": {},
   "outputs": [
    {
     "data": {
      "text/plain": [
       "<AxesSubplot:ylabel='Density'>"
      ]
     },
     "execution_count": 56,
     "metadata": {},
     "output_type": "execute_result"
    },
    {
     "data": {
      "image/png": "[encoded data removed]",
      "text/plain": [
       "<Figure size 432x288 with 1 Axes>"
      ]
     },
     "metadata": {
      "needs_background": "light"
     },
     "output_type": "display_data"
    }
   ],
   "source": [
    "portfolio_val['Daily Return'].plot(kind='kde')"
   ]
  },
  {
   "cell_type": "markdown",
   "metadata": {},
   "source": [
    "The Sharpe Ratio is a measure for calculating risk-adjusted return, and this ratio has become the industry standard for such calculations.\n",
    "\n",
    "Sharpe ratio = (Mean portfolio return − Risk-free rate)/Standard deviation of portfolio return\n",
    "\n",
    "The original Sharpe Ratio\n",
    "\n",
    "Annualized Sharpe Ratio = K-value * SR\n",
    "\n",
    "K-values for various sampling rates:\n",
    "\n",
    "Daily = sqrt(252)\n",
    "Weekly = sqrt(52)\n",
    "Monthly = sqrt(12)\n",
    "Since I'm based in the USA, I will use a very low risk-free rate (the rate you would get if you just put your money in a bank, its currently very low in the USA, let's just say its ~0% return). If you are in a different country with higher rates for your trading currency, you can use this trick to convert a yearly rate with a daily rate:\n",
    "\n",
    "daily_rate = ((1.0 + yearly_rate)**(1/252))-1\n",
    "\n",
    "Other values people use are things like the 3-month treasury bill or LIBOR.@"
   ]
  },
  {
   "cell_type": "code",
   "execution_count": 57,
   "metadata": {},
   "outputs": [],
   "source": [
    "SR = portfolio_val['Daily Return'].mean()/portfolio_val['Daily Return'].std()"
   ]
  },
  {
   "cell_type": "code",
   "execution_count": 58,
   "metadata": {},
   "outputs": [
    {
     "data": {
      "text/plain": [
       "0.03515117757275398"
      ]
     },
     "execution_count": 58,
     "metadata": {},
     "output_type": "execute_result"
    }
   ],
   "source": [
    "SR"
   ]
  },
  {
   "cell_type": "code",
   "execution_count": 59,
   "metadata": {},
   "outputs": [],
   "source": [
    "ASR = (252**0.5)*SR"
   ]
  },
  {
   "cell_type": "code",
   "execution_count": 60,
   "metadata": {},
   "outputs": [
    {
     "data": {
      "text/plain": [
       "0.5580076448914685"
      ]
     },
     "execution_count": 60,
     "metadata": {},
     "output_type": "execute_result"
    }
   ],
   "source": [
    "ASR"
   ]
  },
  {
   "cell_type": "code",
   "execution_count": 61,
   "metadata": {},
   "outputs": [
    {
     "data": {
      "text/plain": [
       "0.012413783239420488"
      ]
     },
     "execution_count": 61,
     "metadata": {},
     "output_type": "execute_result"
    }
   ],
   "source": [
    "portfolio_val['Daily Return'].std()"
   ]
  },
  {
   "cell_type": "code",
   "execution_count": 62,
   "metadata": {},
   "outputs": [
    {
     "data": {
      "text/plain": [
       "0.00043635909899854676"
      ]
     },
     "execution_count": 62,
     "metadata": {},
     "output_type": "execute_result"
    }
   ],
   "source": [
    "portfolio_val['Daily Return'].mean()"
   ]
  },
  {
   "cell_type": "code",
   "execution_count": 64,
   "metadata": {},
   "outputs": [
    {
     "data": {
      "text/plain": [
       "<AxesSubplot:ylabel='Density'>"
      ]
     },
     "execution_count": 64,
     "metadata": {},
     "output_type": "execute_result"
    },
    {
     "data": {
      "image/png": "[encoded data removed]",
      "text/plain": [
       "<Figure size 432x288 with 1 Axes>"
      ]
     },
     "metadata": {
      "needs_background": "light"
     },
     "output_type": "display_data"
    }
   ],
   "source": [
    "portfolio_val['Daily Return'].plot(kind='kde')"
   ]
  },
  {
   "cell_type": "code",
   "execution_count": 70,
   "metadata": {},
   "outputs": [
    {
     "data": {
      "text/plain": [
       "<matplotlib.legend.Legend at 0x121f87fd0>"
      ]
     },
     "execution_count": 70,
     "metadata": {},
     "output_type": "execute_result"
    },
    {
     "data": {
      "image/png": "[encoded data removed]",
      "text/plain": [
       "<Figure size 432x288 with 1 Axes>"
      ]
     },
     "metadata": {
      "needs_background": "light"
     },
     "output_type": "display_data"
    }
   ],
   "source": [
    "aapl['Adj Close'].pct_change(1).plot(kind='kde', label='AAPL')\n",
    "ibm['Adj Close'].pct_change(1).plot(kind='kde', label='IBM')\n",
    "amzn['Adj Close'].pct_change(1).plot(kind='kde', label='AMAZON')\n",
    "cisco['Adj Close'].pct_change(1).plot(kind='kde', label='CISCO')\n",
    "plt.legend()"
   ]
  },
  {
   "cell_type": "code",
   "execution_count": 68,
   "metadata": {},
   "outputs": [
    {
     "data": {
      "text/plain": [
       "12.699606293110037"
      ]
     },
     "execution_count": 68,
     "metadata": {},
     "output_type": "execute_result"
    }
   ],
   "source": [
    "import numpy as np\n",
    "np.sqrt(252)* (np.mean(.001-0.0002)/.001)"
   ]
  },
  {
   "cell_type": "code",
   "execution_count": null,
   "metadata": {},
   "outputs": [],
   "source": []
  }
 ],
 "metadata": {
  "kernelspec": {
   "display_name": "Python 3",
   "language": "python",
   "name": "python3"
  },
  "language_info": {
   "codemirror_mode": {
    "name": "ipython",
    "version": 3
   },
   "file_extension": ".py",
   "mimetype": "text/x-python",
   "name": "python",
   "nbconvert_exporter": "python",
   "pygments_lexer": "ipython3",
   "version": "3.7.4"
  }
 },
 "nbformat": 4,
 "nbformat_minor": 2
}
